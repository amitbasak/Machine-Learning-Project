{
  "nbformat": 4,
  "nbformat_minor": 0,
  "metadata": {
    "colab": {
      "provenance": [],
      "authorship_tag": "ABX9TyPIp2EC4XlO1Va78xIfRG7y",
      "include_colab_link": true
    },
    "kernelspec": {
      "name": "python3",
      "display_name": "Python 3"
    },
    "language_info": {
      "name": "python"
    }
  },
  "cells": [
    {
      "cell_type": "markdown",
      "metadata": {
        "id": "view-in-github",
        "colab_type": "text"
      },
      "source": [
        "<a href=\"https://colab.research.google.com/github/amitbasak/Machine-Learning-Project/blob/main/cat_vs_not_cat_(project_2).ipynb\" target=\"_parent\"><img src=\"https://colab.research.google.com/assets/colab-badge.svg\" alt=\"Open In Colab\"/></a>"
      ]
    },
    {
      "cell_type": "code",
      "source": [
        "import numpy as np\n",
        "import pandas as pd"
      ],
      "metadata": {
        "id": "MDyj5jtgtaqc"
      },
      "execution_count": 19,
      "outputs": []
    },
    {
      "cell_type": "code",
      "source": [
        "import os\n",
        "for dirname, _, filenames in os.walk('E:/Dataset/kaggle/input'):\n",
        "    for filename in filenames:\n",
        "        print(os.path.join(dirname, filename))"
      ],
      "metadata": {
        "id": "wrrTbxUQtmpu"
      },
      "execution_count": 29,
      "outputs": []
    },
    {
      "cell_type": "code",
      "source": [
        "\n",
        "import h5py\n",
        "from PIL import Image\n",
        "import os\n",
        "import matplotlib.pyplot as plt\n"
      ],
      "metadata": {
        "id": "FW6FsLTKuBND"
      },
      "execution_count": 30,
      "outputs": []
    },
    {
      "cell_type": "code",
      "source": [
        "train_data_path = '/content/train_catvsnoncat.h5'\n",
        "test_data_path = \"/content/test_catvsnoncat.h5\"\n",
        "\n",
        "with h5py.File(train_data_path, 'r') as train_dataset:\n",
        "    x_train = np.array(train_dataset[\"train_set_x\"][:])\n",
        "    y_train = np.array(train_dataset[\"train_set_y\"][:])\n",
        "\n",
        "with h5py.File(test_data_path, 'r') as test_dataset:\n",
        "    x_test = np.array(test_dataset[\"test_set_x\"][:])\n",
        "    y_test = np.array(test_dataset[\"test_set_y\"][:])\n",
        "    classes = np.array(test_dataset[\"list_classes\"][:])\n",
        "\n",
        "print(\"origin X_train shape:\",x_train.shape)\n",
        "print(\"origin Y_train shape:\", y_train.shape)\n",
        "print(\"origin X_test shape:\", x_test.shape)\n",
        "print(\"origin Y_test shape:\", y_test.shape)"
      ],
      "metadata": {
        "colab": {
          "base_uri": "https://localhost:8080/"
        },
        "id": "1nA3HX40CpjF",
        "outputId": "9a6d80b4-63a3-4a21-ff03-fd28ae23024b"
      },
      "execution_count": 34,
      "outputs": [
        {
          "output_type": "stream",
          "name": "stdout",
          "text": [
            "origin X_train shape: (209, 64, 64, 3)\n",
            "origin Y_train shape: (209,)\n",
            "origin X_test shape: (50, 64, 64, 3)\n",
            "origin Y_test shape: (50,)\n"
          ]
        }
      ]
    },
    {
      "cell_type": "code",
      "source": [
        "\n",
        "train_x_flatten = x_train.reshape(x_train.shape[0], -1).T\n",
        "test_x_flatten = x_test.reshape(x_test.shape[0], -1).T\n",
        "\n",
        "\n",
        "X_train = train_x_flatten/255\n",
        "X_test = test_x_flatten/255\n",
        "\n",
        "print (\"train_x's shape: \" + str(X_train.shape))\n",
        "print (\"test_x's shape: \" + str(X_test.shape))"
      ],
      "metadata": {
        "colab": {
          "base_uri": "https://localhost:8080/"
        },
        "id": "9LEPWivIL1PX",
        "outputId": "bdca7f55-2d6b-40e4-e1af-0c4533d9ee6f"
      },
      "execution_count": 35,
      "outputs": [
        {
          "output_type": "stream",
          "name": "stdout",
          "text": [
            "train_x's shape: (12288, 209)\n",
            "test_x's shape: (12288, 50)\n"
          ]
        }
      ]
    },
    {
      "cell_type": "code",
      "source": [
        "\n",
        "n_x = 12288\n",
        "n_h = 7\n",
        "n_y = 1\n",
        "layers_dims = (n_x, n_h, n_y)"
      ],
      "metadata": {
        "id": "V4TjW4RlQfJU"
      },
      "execution_count": 77,
      "outputs": []
    },
    {
      "cell_type": "code",
      "source": [
        "import numpy as np\n",
        "import matplotlib.pyplot as plt\n",
        "\n",
        "def initialize_parameters(n_x, n_h, n_y):\n",
        "\n",
        "    np.random.seed(1)\n",
        "\n",
        "\n",
        "    W1 = np.random.randn(n_h, n_x) * 0.01\n",
        "    b1 = np.zeros(shape=(n_h, 1))\n",
        "    W2 = np.random.randn(n_y, n_h) * 0.01\n",
        "    b2 = np.zeros(shape=(n_y, 1))\n",
        "\n",
        "    assert(W1.shape == (n_h, n_x))\n",
        "    assert(b1.shape == (n_h, 1))\n",
        "    assert(W2.shape == (n_y, n_h))\n",
        "    assert(b2.shape == (n_y, 1))\n",
        "\n",
        "    parameters = {\"W1\": W1,\n",
        "                  \"b1\": b1,\n",
        "                  \"W2\": W2,\n",
        "                  \"b2\": b2}\n",
        "\n",
        "    return parameters\n",
        "\n",
        "def linear_activation_forward(A_prev, W, b, activation):\n",
        "\n",
        "\n",
        "  if activation == \"sigmoid\":\n",
        "\n",
        "\n",
        "      Z, linear_cache = linear_forward(A_prev, W, b)\n",
        "      A, activation_cache = sigmoid(Z)\n",
        "\n",
        "  elif activation == \"relu\":\n",
        "\n",
        "\n",
        "      Z, linear_cache = linear_forward(A_prev, W, b)\n",
        "      A, activation_cache = relu(Z)\n",
        "\n",
        "  assert (A.shape == (W.shape[0], A_prev.shape[1]))\n",
        "  cache = (linear_cache, activation_cache)\n",
        "\n",
        "  return A, cache\n",
        "\n",
        "def linear_forward(A, W, b):\n",
        "\n",
        "\n",
        "  Z = np.dot(W, A) + b\n",
        "\n",
        "  assert(Z.shape == (W.shape[0], A.shape[1]))\n",
        "  cache = (A, W, b)\n",
        "\n",
        "  return Z, cache\n",
        "\n",
        "def compute_cost(AL, Y):\n",
        "\n",
        "\n",
        "    m = Y.shape[0]\n",
        "\n",
        "    cost = (-1. / m) * np.sum(np.multiply(Y, np.log(AL)) + np.multiply((1 - Y), np.log(1 - AL)))\n",
        "\n",
        "    cost = np.squeeze(cost)\n",
        "    assert (cost.shape == ())\n",
        "\n",
        "    return cost\n",
        "\n",
        "def linear_activation_backward(dA, cache, activation):\n",
        "\n",
        "  linear_cache, activation_cache = cache\n",
        "\n",
        "  if activation == \"relu\":\n",
        "\n",
        "      dZ = relu_backward(dA, activation_cache)\n",
        "      dA_prev, dW, db = linear_backward(dZ, linear_cache)\n",
        "\n",
        "\n",
        "  elif activation == \"sigmoid\":\n",
        "\n",
        "      dZ = sigmoid_backward(dA, activation_cache)\n",
        "      dA_prev, dW, db = linear_backward(dZ, linear_cache)\n",
        "\n",
        "  return dA_prev, dW, db\n",
        "\n",
        "def linear_backward(dZ, cache):\n",
        "\n",
        "  A_prev, W, b = cache\n",
        "  m = A_prev.shape[1]\n",
        "\n",
        "\n",
        "  dW = (1. / m) * np.dot(dZ, cache[0].T)\n",
        "  db = (1. / m) * np.sum(dZ, axis=1, keepdims=True)\n",
        "  dA_prev = np.dot(cache[1].T, dZ)\n",
        "\n",
        "\n",
        "  assert (dA_prev.shape == A_prev.shape)\n",
        "  assert (dW.shape == W.shape)\n",
        "  assert (db.shape == b.shape)\n",
        "\n",
        "  return dA_prev, dW, db\n",
        "\n",
        "def update_parameters(parameters, grads, learning_rate):\n",
        "\n",
        "    parameters['W1'] = parameters['W1'] - learning_rate * grads['dW1']\n",
        "    parameters['b1'] = parameters['b1'] - learning_rate * grads['db1']\n",
        "    parameters['W2'] = parameters['W2'] - learning_rate * grads['dW2']\n",
        "    parameters['b2'] = parameters['b2'] - learning_rate * grads['db2']\n",
        "\n",
        "    return parameters\n",
        "\n",
        "\n",
        "def sigmoid(Z):\n",
        "\n",
        "  A = 1/(1+np.exp(-Z))\n",
        "  cache = Z\n",
        "\n",
        "  return A, cache\n",
        "\n",
        "def relu(Z):\n",
        "\n",
        "  A = np.maximum(0,Z)\n",
        "\n",
        "  assert(A.shape == Z.shape)\n",
        "\n",
        "  cache = Z\n",
        "  return A, cache\n",
        "\n",
        "\n",
        "def relu_backward(dA, cache):\n",
        "\n",
        "  Z = cache\n",
        "  dZ = np.array(dA, copy=True)\n",
        "\n",
        "\n",
        "  dZ[Z <= 0] = 0\n",
        "\n",
        "  assert (dZ.shape == Z.shape)\n",
        "\n",
        "  return dZ\n",
        "\n",
        "def sigmoid_backward(dA, cache):\n",
        "\n",
        "  Z = cache\n",
        "\n",
        "  s = 1/(1+np.exp(-Z))\n",
        "  dZ = dA * s * (1-s)\n",
        "\n",
        "  assert (dZ.shape == Z.shape)\n",
        "\n",
        "  return dZ"
      ],
      "metadata": {
        "id": "Ihe9LFWuUmQJ"
      },
      "execution_count": 78,
      "outputs": []
    },
    {
      "cell_type": "code",
      "source": [
        "parameters = two_layer_model(X_train, y_train, layers_dims = (n_x, n_h, n_y), num_iterations = 3000, print_cost=True)"
      ],
      "metadata": {
        "colab": {
          "base_uri": "https://localhost:8080/",
          "height": 1000
        },
        "id": "sTJINWVwWUGH",
        "outputId": "a22dae7c-a330-408a-cf77-d3cfac83964e"
      },
      "execution_count": 79,
      "outputs": [
        {
          "output_type": "stream",
          "name": "stdout",
          "text": [
            "Cost after iteration 0: 0.693049735659989\n",
            "Cost after iteration 100: 0.6711376921892952\n",
            "Cost after iteration 200: 0.6597716537024666\n",
            "Cost after iteration 300: 0.6537081987305166\n",
            "Cost after iteration 400: 0.650335156554738\n",
            "Cost after iteration 500: 0.6483356044488142\n",
            "Cost after iteration 600: 0.6470440139368259\n",
            "Cost after iteration 700: 0.6461148725349101\n",
            "Cost after iteration 800: 0.6453766616161668\n",
            "Cost after iteration 900: 0.6447410526879567\n",
            "Cost after iteration 1000: 0.6441632603338605\n",
            "Cost after iteration 1100: 0.6436202870658476\n",
            "Cost after iteration 1200: 0.6431002899818891\n",
            "Cost after iteration 1300: 0.6425968227667962\n",
            "Cost after iteration 1400: 0.6421074838854505\n",
            "Cost after iteration 1500: 0.6416300169166765\n",
            "Cost after iteration 1600: 0.6411632936782073\n",
            "Cost after iteration 1700: 0.6407060511645564\n",
            "Cost after iteration 1800: 0.6402568935794432\n",
            "Cost after iteration 1900: 0.6398166338811626\n",
            "Cost after iteration 2000: 0.6393864362532807\n",
            "Cost after iteration 2100: 0.6389653078921917\n",
            "Cost after iteration 2200: 0.6385546482177313\n",
            "Cost after iteration 2300: 0.6381530350729645\n",
            "Cost after iteration 2400: 0.6377595854818919\n",
            "Cost after iteration 2500: 0.6373746315202093\n",
            "Cost after iteration 2600: 0.6369998422943248\n",
            "Cost after iteration 2700: 0.6366340933057397\n",
            "Cost after iteration 2800: 0.6362769749861259\n",
            "Cost after iteration 2900: 0.635927323025518\n"
          ]
        },
        {
          "output_type": "display_data",
          "data": {
            "text/plain": [
              "<Figure size 640x480 with 1 Axes>"
            ],
            "image/png": "[encoded data removed]"
          },
          "metadata": {}
        }
      ]
    },
    {
      "cell_type": "code",
      "source": [
        "def predict(X, y, parameters):\n",
        "\n",
        "\n",
        "    m = X.shape[1]\n",
        "    n = len(parameters)\n",
        "    p = np.zeros((1,m))\n",
        "\n",
        "\n",
        "    probas, caches = linear_activation_forward(X, parameters['W1'], parameters['b1'], activation = \"relu\")\n",
        "    probas, caches = linear_activation_forward(probas, parameters['W2'], parameters['b2'], activation = \"sigmoid\")\n",
        "\n",
        "\n",
        "\n",
        "    for i in range(0, probas.shape[1]):\n",
        "        if probas[0,i] > 0.5:\n",
        "            p[0,i] = 1\n",
        "        else:\n",
        "            p[0,i] = 0\n",
        "\n",
        "\n",
        "    print(\"Accuracy: \"  + str(np.sum((p == y)/m)))\n",
        "\n",
        "    return p"
      ],
      "metadata": {
        "id": "vFVbsoGnaSRE"
      },
      "execution_count": 80,
      "outputs": []
    },
    {
      "cell_type": "code",
      "source": [
        "predictions_train = predict(X_train, y_train, parameters)"
      ],
      "metadata": {
        "colab": {
          "base_uri": "https://localhost:8080/"
        },
        "id": "Ee4uKrr9ZzaG",
        "outputId": "869a373c-7877-4cc3-e03d-71fb465dd4cf"
      },
      "execution_count": 81,
      "outputs": [
        {
          "output_type": "stream",
          "name": "stdout",
          "text": [
            "Accuracy: 0.6889952153110047\n"
          ]
        }
      ]
    },
    {
      "cell_type": "code",
      "source": [
        "predictions_train = predict(X_test, y_test, parameters)"
      ],
      "metadata": {
        "colab": {
          "base_uri": "https://localhost:8080/"
        },
        "id": "xUkX_438efNy",
        "outputId": "b65bd3a7-502b-49d7-e8db-76db8be997dc"
      },
      "execution_count": 82,
      "outputs": [
        {
          "output_type": "stream",
          "name": "stdout",
          "text": [
            "Accuracy: 0.7000000000000001\n"
          ]
        }
      ]
    },
    {
      "cell_type": "markdown",
      "source": [
        "**Tensorflow**"
      ],
      "metadata": {
        "id": "HKcyIgpcelia"
      }
    },
    {
      "cell_type": "code",
      "source": [
        "from tensorflow.keras.models import Sequential\n",
        "from tensorflow.keras.layers import Dense"
      ],
      "metadata": {
        "id": "05Ou92QUek-6"
      },
      "execution_count": 83,
      "outputs": []
    },
    {
      "cell_type": "code",
      "source": [
        "model = Sequential()\n",
        "\n",
        "model.add(Dense(128, input_shape=(X_train.shape[1],), activation='relu'))\n",
        "\n",
        "model.add(Dense(64, activation='relu'))\n",
        "model.add(Dense(32, activation='relu'))\n",
        "\n",
        "model.add(Dense(1, activation='sigmoid'))\n",
        "\n",
        "model.compile(optimizer='adam', loss='binary_crossentropy', metrics=['accuracy'])\n"
      ],
      "metadata": {
        "id": "xI6Y64B-e0Xi"
      },
      "execution_count": 105,
      "outputs": []
    },
    {
      "cell_type": "code",
      "source": [
        "model.fit(X_train, y_train, epochs=50, batch_size=10, validation_data=(X_test, y_test))"
      ],
      "metadata": {
        "colab": {
          "base_uri": "https://localhost:8080/"
        },
        "id": "9tD-4mObf0jx",
        "outputId": "852c2031-39aa-4244-d8ed-c6c3175854ad"
      },
      "execution_count": 106,
      "outputs": [
        {
          "output_type": "stream",
          "name": "stdout",
          "text": [
            "Epoch 1/50\n",
            "\u001b[1m21/21\u001b[0m \u001b[32m━━━━━━━━━━━━━━━━━━━━\u001b[0m\u001b[37m\u001b[0m \u001b[1m2s\u001b[0m 42ms/step - accuracy: 0.5882 - loss: 1.1129 - val_accuracy: 0.5200 - val_loss: 0.6953\n",
            "Epoch 2/50\n",
            "\u001b[1m21/21\u001b[0m \u001b[32m━━━━━━━━━━━━━━━━━━━━\u001b[0m\u001b[37m\u001b[0m \u001b[1m1s\u001b[0m 41ms/step - accuracy: 0.6659 - loss: 0.6435 - val_accuracy: 0.5600 - val_loss: 0.7189\n",
            "Epoch 3/50\n",
            "\u001b[1m21/21\u001b[0m \u001b[32m━━━━━━━━━━━━━━━━━━━━\u001b[0m\u001b[37m\u001b[0m \u001b[1m1s\u001b[0m 32ms/step - accuracy: 0.6493 - loss: 0.7597 - val_accuracy: 0.6000 - val_loss: 0.7061\n",
            "Epoch 4/50\n",
            "\u001b[1m21/21\u001b[0m \u001b[32m━━━━━━━━━━━━━━━━━━━━\u001b[0m\u001b[37m\u001b[0m \u001b[1m0s\u001b[0m 22ms/step - accuracy: 0.7624 - loss: 0.5033 - val_accuracy: 0.3400 - val_loss: 1.2058\n",
            "Epoch 5/50\n",
            "\u001b[1m21/21\u001b[0m \u001b[32m━━━━━━━━━━━━━━━━━━━━\u001b[0m\u001b[37m\u001b[0m \u001b[1m0s\u001b[0m 21ms/step - accuracy: 0.7083 - loss: 0.5633 - val_accuracy: 0.7600 - val_loss: 0.5319\n",
            "Epoch 6/50\n",
            "\u001b[1m21/21\u001b[0m \u001b[32m━━━━━━━━━━━━━━━━━━━━\u001b[0m\u001b[37m\u001b[0m \u001b[1m1s\u001b[0m 22ms/step - accuracy: 0.8075 - loss: 0.4235 - val_accuracy: 0.7600 - val_loss: 0.5991\n",
            "Epoch 7/50\n",
            "\u001b[1m21/21\u001b[0m \u001b[32m━━━━━━━━━━━━━━━━━━━━\u001b[0m\u001b[37m\u001b[0m \u001b[1m1s\u001b[0m 24ms/step - accuracy: 0.8367 - loss: 0.3856 - val_accuracy: 0.4200 - val_loss: 1.0660\n",
            "Epoch 8/50\n",
            "\u001b[1m21/21\u001b[0m \u001b[32m━━━━━━━━━━━━━━━━━━━━\u001b[0m\u001b[37m\u001b[0m \u001b[1m1s\u001b[0m 29ms/step - accuracy: 0.7955 - loss: 0.4079 - val_accuracy: 0.7800 - val_loss: 0.5586\n",
            "Epoch 9/50\n",
            "\u001b[1m21/21\u001b[0m \u001b[32m━━━━━━━━━━━━━━━━━━━━\u001b[0m\u001b[37m\u001b[0m \u001b[1m1s\u001b[0m 29ms/step - accuracy: 0.7118 - loss: 0.6460 - val_accuracy: 0.6800 - val_loss: 0.7472\n",
            "Epoch 10/50\n",
            "\u001b[1m21/21\u001b[0m \u001b[32m━━━━━━━━━━━━━━━━━━━━\u001b[0m\u001b[37m\u001b[0m \u001b[1m1s\u001b[0m 29ms/step - accuracy: 0.8380 - loss: 0.3698 - val_accuracy: 0.3400 - val_loss: 1.4154\n",
            "Epoch 11/50\n",
            "\u001b[1m21/21\u001b[0m \u001b[32m━━━━━━━━━━━━━━━━━━━━\u001b[0m\u001b[37m\u001b[0m \u001b[1m0s\u001b[0m 22ms/step - accuracy: 0.7337 - loss: 0.5759 - val_accuracy: 0.6600 - val_loss: 0.6844\n",
            "Epoch 12/50\n",
            "\u001b[1m21/21\u001b[0m \u001b[32m━━━━━━━━━━━━━━━━━━━━\u001b[0m\u001b[37m\u001b[0m \u001b[1m1s\u001b[0m 25ms/step - accuracy: 0.8928 - loss: 0.3133 - val_accuracy: 0.6800 - val_loss: 0.7340\n",
            "Epoch 13/50\n",
            "\u001b[1m21/21\u001b[0m \u001b[32m━━━━━━━━━━━━━━━━━━━━\u001b[0m\u001b[37m\u001b[0m \u001b[1m1s\u001b[0m 30ms/step - accuracy: 0.8342 - loss: 0.3321 - val_accuracy: 0.4800 - val_loss: 1.1306\n",
            "Epoch 14/50\n",
            "\u001b[1m21/21\u001b[0m \u001b[32m━━━━━━━━━━━━━━━━━━━━\u001b[0m\u001b[37m\u001b[0m \u001b[1m1s\u001b[0m 23ms/step - accuracy: 0.8641 - loss: 0.4340 - val_accuracy: 0.7600 - val_loss: 0.6893\n",
            "Epoch 15/50\n",
            "\u001b[1m21/21\u001b[0m \u001b[32m━━━━━━━━━━━━━━━━━━━━\u001b[0m\u001b[37m\u001b[0m \u001b[1m1s\u001b[0m 22ms/step - accuracy: 0.8906 - loss: 0.2250 - val_accuracy: 0.7800 - val_loss: 0.6333\n",
            "Epoch 16/50\n",
            "\u001b[1m21/21\u001b[0m \u001b[32m━━━━━━━━━━━━━━━━━━━━\u001b[0m\u001b[37m\u001b[0m \u001b[1m1s\u001b[0m 22ms/step - accuracy: 0.9347 - loss: 0.1873 - val_accuracy: 0.6000 - val_loss: 1.0352\n",
            "Epoch 17/50\n",
            "\u001b[1m21/21\u001b[0m \u001b[32m━━━━━━━━━━━━━━━━━━━━\u001b[0m\u001b[37m\u001b[0m \u001b[1m1s\u001b[0m 23ms/step - accuracy: 0.8792 - loss: 0.3239 - val_accuracy: 0.4000 - val_loss: 1.6821\n",
            "Epoch 18/50\n",
            "\u001b[1m21/21\u001b[0m \u001b[32m━━━━━━━━━━━━━━━━━━━━\u001b[0m\u001b[37m\u001b[0m \u001b[1m1s\u001b[0m 28ms/step - accuracy: 0.8700 - loss: 0.2977 - val_accuracy: 0.5200 - val_loss: 1.2419\n",
            "Epoch 19/50\n",
            "\u001b[1m21/21\u001b[0m \u001b[32m━━━━━━━━━━━━━━━━━━━━\u001b[0m\u001b[37m\u001b[0m \u001b[1m1s\u001b[0m 37ms/step - accuracy: 0.8563 - loss: 0.3160 - val_accuracy: 0.7400 - val_loss: 0.8050\n",
            "Epoch 20/50\n",
            "\u001b[1m21/21\u001b[0m \u001b[32m━━━━━━━━━━━━━━━━━━━━\u001b[0m\u001b[37m\u001b[0m \u001b[1m1s\u001b[0m 33ms/step - accuracy: 0.9296 - loss: 0.1664 - val_accuracy: 0.7400 - val_loss: 0.9412\n",
            "Epoch 21/50\n",
            "\u001b[1m21/21\u001b[0m \u001b[32m━━━━━━━━━━━━━━━━━━━━\u001b[0m\u001b[37m\u001b[0m \u001b[1m1s\u001b[0m 20ms/step - accuracy: 0.9704 - loss: 0.1265 - val_accuracy: 0.7200 - val_loss: 0.9737\n",
            "Epoch 22/50\n",
            "\u001b[1m21/21\u001b[0m \u001b[32m━━━━━━━━━━━━━━━━━━━━\u001b[0m\u001b[37m\u001b[0m \u001b[1m0s\u001b[0m 22ms/step - accuracy: 0.9574 - loss: 0.1482 - val_accuracy: 0.5800 - val_loss: 1.3065\n",
            "Epoch 23/50\n",
            "\u001b[1m21/21\u001b[0m \u001b[32m━━━━━━━━━━━━━━━━━━━━\u001b[0m\u001b[37m\u001b[0m \u001b[1m1s\u001b[0m 21ms/step - accuracy: 0.8662 - loss: 0.3245 - val_accuracy: 0.5000 - val_loss: 1.4928\n",
            "Epoch 24/50\n",
            "\u001b[1m21/21\u001b[0m \u001b[32m━━━━━━━━━━━━━━━━━━━━\u001b[0m\u001b[37m\u001b[0m \u001b[1m0s\u001b[0m 22ms/step - accuracy: 0.9034 - loss: 0.2664 - val_accuracy: 0.5200 - val_loss: 1.2961\n",
            "Epoch 25/50\n",
            "\u001b[1m21/21\u001b[0m \u001b[32m━━━━━━━━━━━━━━━━━━━━\u001b[0m\u001b[37m\u001b[0m \u001b[1m1s\u001b[0m 21ms/step - accuracy: 0.9462 - loss: 0.1709 - val_accuracy: 0.7200 - val_loss: 0.8505\n",
            "Epoch 26/50\n",
            "\u001b[1m21/21\u001b[0m \u001b[32m━━━━━━━━━━━━━━━━━━━━\u001b[0m\u001b[37m\u001b[0m \u001b[1m1s\u001b[0m 21ms/step - accuracy: 0.9578 - loss: 0.1344 - val_accuracy: 0.7400 - val_loss: 0.8793\n",
            "Epoch 27/50\n",
            "\u001b[1m21/21\u001b[0m \u001b[32m━━━━━━━━━━━━━━━━━━━━\u001b[0m\u001b[37m\u001b[0m \u001b[1m0s\u001b[0m 23ms/step - accuracy: 0.9734 - loss: 0.0944 - val_accuracy: 0.6200 - val_loss: 1.3493\n",
            "Epoch 28/50\n",
            "\u001b[1m21/21\u001b[0m \u001b[32m━━━━━━━━━━━━━━━━━━━━\u001b[0m\u001b[37m\u001b[0m \u001b[1m0s\u001b[0m 22ms/step - accuracy: 0.9643 - loss: 0.1239 - val_accuracy: 0.6600 - val_loss: 1.1838\n",
            "Epoch 29/50\n",
            "\u001b[1m21/21\u001b[0m \u001b[32m━━━━━━━━━━━━━━━━━━━━\u001b[0m\u001b[37m\u001b[0m \u001b[1m1s\u001b[0m 23ms/step - accuracy: 0.9901 - loss: 0.0778 - val_accuracy: 0.7600 - val_loss: 1.0585\n",
            "Epoch 30/50\n",
            "\u001b[1m21/21\u001b[0m \u001b[32m━━━━━━━━━━━━━━━━━━━━\u001b[0m\u001b[37m\u001b[0m \u001b[1m1s\u001b[0m 27ms/step - accuracy: 0.8685 - loss: 0.4812 - val_accuracy: 0.6400 - val_loss: 1.3005\n",
            "Epoch 31/50\n",
            "\u001b[1m21/21\u001b[0m \u001b[32m━━━━━━━━━━━━━━━━━━━━\u001b[0m\u001b[37m\u001b[0m \u001b[1m1s\u001b[0m 30ms/step - accuracy: 0.9210 - loss: 0.2096 - val_accuracy: 0.7600 - val_loss: 1.0143\n",
            "Epoch 32/50\n",
            "\u001b[1m21/21\u001b[0m \u001b[32m━━━━━━━━━━━━━━━━━━━━\u001b[0m\u001b[37m\u001b[0m \u001b[1m1s\u001b[0m 32ms/step - accuracy: 0.9356 - loss: 0.1854 - val_accuracy: 0.6400 - val_loss: 1.2242\n",
            "Epoch 33/50\n",
            "\u001b[1m21/21\u001b[0m \u001b[32m━━━━━━━━━━━━━━━━━━━━\u001b[0m\u001b[37m\u001b[0m \u001b[1m1s\u001b[0m 30ms/step - accuracy: 0.9969 - loss: 0.0728 - val_accuracy: 0.6800 - val_loss: 1.2012\n",
            "Epoch 34/50\n",
            "\u001b[1m21/21\u001b[0m \u001b[32m━━━━━━━━━━━━━━━━━━━━\u001b[0m\u001b[37m\u001b[0m \u001b[1m1s\u001b[0m 29ms/step - accuracy: 0.9748 - loss: 0.0905 - val_accuracy: 0.8000 - val_loss: 1.0923\n",
            "Epoch 35/50\n",
            "\u001b[1m21/21\u001b[0m \u001b[32m━━━━━━━━━━━━━━━━━━━━\u001b[0m\u001b[37m\u001b[0m \u001b[1m1s\u001b[0m 27ms/step - accuracy: 0.9015 - loss: 0.1863 - val_accuracy: 0.3400 - val_loss: 5.0662\n",
            "Epoch 36/50\n",
            "\u001b[1m21/21\u001b[0m \u001b[32m━━━━━━━━━━━━━━━━━━━━\u001b[0m\u001b[37m\u001b[0m \u001b[1m0s\u001b[0m 21ms/step - accuracy: 0.7799 - loss: 0.6397 - val_accuracy: 0.6400 - val_loss: 1.4201\n",
            "Epoch 37/50\n",
            "\u001b[1m21/21\u001b[0m \u001b[32m━━━━━━━━━━━━━━━━━━━━\u001b[0m\u001b[37m\u001b[0m \u001b[1m1s\u001b[0m 40ms/step - accuracy: 0.9734 - loss: 0.0778 - val_accuracy: 0.7600 - val_loss: 1.1183\n",
            "Epoch 38/50\n",
            "\u001b[1m21/21\u001b[0m \u001b[32m━━━━━━━━━━━━━━━━━━━━\u001b[0m\u001b[37m\u001b[0m \u001b[1m1s\u001b[0m 40ms/step - accuracy: 0.9198 - loss: 0.1815 - val_accuracy: 0.6400 - val_loss: 1.4231\n",
            "Epoch 39/50\n",
            "\u001b[1m21/21\u001b[0m \u001b[32m━━━━━━━━━━━━━━━━━━━━\u001b[0m\u001b[37m\u001b[0m \u001b[1m1s\u001b[0m 22ms/step - accuracy: 0.9535 - loss: 0.1016 - val_accuracy: 0.7200 - val_loss: 1.0925\n",
            "Epoch 40/50\n",
            "\u001b[1m21/21\u001b[0m \u001b[32m━━━━━━━━━━━━━━━━━━━━\u001b[0m\u001b[37m\u001b[0m \u001b[1m1s\u001b[0m 27ms/step - accuracy: 0.9751 - loss: 0.0439 - val_accuracy: 0.7600 - val_loss: 1.1303\n",
            "Epoch 41/50\n",
            "\u001b[1m21/21\u001b[0m \u001b[32m━━━━━━━━━━━━━━━━━━━━\u001b[0m\u001b[37m\u001b[0m \u001b[1m1s\u001b[0m 30ms/step - accuracy: 0.9812 - loss: 0.0427 - val_accuracy: 0.7400 - val_loss: 1.2612\n",
            "Epoch 42/50\n",
            "\u001b[1m21/21\u001b[0m \u001b[32m━━━━━━━━━━━━━━━━━━━━\u001b[0m\u001b[37m\u001b[0m \u001b[1m1s\u001b[0m 31ms/step - accuracy: 0.9768 - loss: 0.0622 - val_accuracy: 0.6600 - val_loss: 1.4147\n",
            "Epoch 43/50\n",
            "\u001b[1m21/21\u001b[0m \u001b[32m━━━━━━━━━━━━━━━━━━━━\u001b[0m\u001b[37m\u001b[0m \u001b[1m1s\u001b[0m 28ms/step - accuracy: 0.9965 - loss: 0.0287 - val_accuracy: 0.7600 - val_loss: 1.1458\n",
            "Epoch 44/50\n",
            "\u001b[1m21/21\u001b[0m \u001b[32m━━━━━━━━━━━━━━━━━━━━\u001b[0m\u001b[37m\u001b[0m \u001b[1m0s\u001b[0m 22ms/step - accuracy: 0.9849 - loss: 0.0571 - val_accuracy: 0.7600 - val_loss: 1.1567\n",
            "Epoch 45/50\n",
            "\u001b[1m21/21\u001b[0m \u001b[32m━━━━━━━━━━━━━━━━━━━━\u001b[0m\u001b[37m\u001b[0m \u001b[1m1s\u001b[0m 25ms/step - accuracy: 0.9111 - loss: 0.2561 - val_accuracy: 0.3000 - val_loss: 3.8304\n",
            "Epoch 46/50\n",
            "\u001b[1m21/21\u001b[0m \u001b[32m━━━━━━━━━━━━━━━━━━━━\u001b[0m\u001b[37m\u001b[0m \u001b[1m1s\u001b[0m 31ms/step - accuracy: 0.7455 - loss: 0.6234 - val_accuracy: 0.5600 - val_loss: 1.0144\n",
            "Epoch 47/50\n",
            "\u001b[1m21/21\u001b[0m \u001b[32m━━━━━━━━━━━━━━━━━━━━\u001b[0m\u001b[37m\u001b[0m \u001b[1m1s\u001b[0m 23ms/step - accuracy: 0.9573 - loss: 0.1560 - val_accuracy: 0.7400 - val_loss: 0.9824\n",
            "Epoch 48/50\n",
            "\u001b[1m21/21\u001b[0m \u001b[32m━━━━━━━━━━━━━━━━━━━━\u001b[0m\u001b[37m\u001b[0m \u001b[1m1s\u001b[0m 33ms/step - accuracy: 0.9489 - loss: 0.1732 - val_accuracy: 0.6000 - val_loss: 1.6225\n",
            "Epoch 49/50\n",
            "\u001b[1m21/21\u001b[0m \u001b[32m━━━━━━━━━━━━━━━━━━━━\u001b[0m\u001b[37m\u001b[0m \u001b[1m1s\u001b[0m 27ms/step - accuracy: 0.9195 - loss: 0.1776 - val_accuracy: 0.7400 - val_loss: 1.0628\n",
            "Epoch 50/50\n",
            "\u001b[1m21/21\u001b[0m \u001b[32m━━━━━━━━━━━━━━━━━━━━\u001b[0m\u001b[37m\u001b[0m \u001b[1m0s\u001b[0m 22ms/step - accuracy: 0.9802 - loss: 0.0597 - val_accuracy: 0.7600 - val_loss: 1.0967\n"
          ]
        },
        {
          "output_type": "execute_result",
          "data": {
            "text/plain": [
              "<keras.src.callbacks.history.History at 0x7c2a779f6490>"
            ]
          },
          "metadata": {},
          "execution_count": 106
        }
      ]
    },
    {
      "cell_type": "code",
      "source": [
        "loss, accuracy = model.evaluate(X_test, y_test)\n",
        "print('Accuracy: %.2f' % (accuracy*100))"
      ],
      "metadata": {
        "colab": {
          "base_uri": "https://localhost:8080/"
        },
        "id": "BVdF62vAhaTo",
        "outputId": "b7232bcc-248c-447d-9e18-b0b7b18f3a30"
      },
      "execution_count": 107,
      "outputs": [
        {
          "output_type": "stream",
          "name": "stdout",
          "text": [
            "\u001b[1m2/2\u001b[0m \u001b[32m━━━━━━━━━━━━━━━━━━━━\u001b[0m\u001b[37m\u001b[0m \u001b[1m0s\u001b[0m 26ms/step - accuracy: 0.7671 - loss: 1.1176 \n",
            "Accuracy: 76.00\n"
          ]
        }
      ]
    }
  ]
}